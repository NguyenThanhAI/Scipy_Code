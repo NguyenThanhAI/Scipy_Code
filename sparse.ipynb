{
 "cells": [
  {
   "cell_type": "code",
   "execution_count": 18,
   "metadata": {},
   "outputs": [],
   "source": [
    "import numpy as np\n",
    "from scipy import sparse\n",
    "from scipy.sparse import linalg, csgraph"
   ]
  },
  {
   "cell_type": "code",
   "execution_count": 3,
   "metadata": {},
   "outputs": [
    {
     "name": "stdout",
     "output_type": "stream",
     "text": [
      "  (1, 1)\t2\n",
      "  (3, 4)\t5\n",
      "  (0, 2)\t9\n",
      "  (2, 3)\t1\n",
      "  (4, 3)\t6\n"
     ]
    },
    {
     "data": {
      "text/plain": [
       "array([[0, 0, 9, 0, 0, 0, 0],\n",
       "       [0, 2, 0, 0, 0, 0, 0],\n",
       "       [0, 0, 0, 1, 0, 0, 0],\n",
       "       [0, 0, 0, 0, 5, 0, 0],\n",
       "       [0, 0, 0, 6, 0, 0, 0],\n",
       "       [0, 0, 0, 0, 0, 0, 0]])"
      ]
     },
     "execution_count": 3,
     "metadata": {},
     "output_type": "execute_result"
    }
   ],
   "source": [
    "row = [1, 3, 0, 2, 4]\n",
    "col = [1, 4, 2, 3, 3]\n",
    "data = [2, 5, 9, 1, 6]\n",
    "coo = sparse.coo_matrix((data, (row, col)), shape=(6, 7))\n",
    "print(coo)\n",
    "coo.toarray()"
   ]
  },
  {
   "cell_type": "code",
   "execution_count": 4,
   "metadata": {},
   "outputs": [
    {
     "data": {
      "text/plain": [
       "array([[ 8,  0,  1,  0, -1],\n",
       "       [ 0,  8,  2,  0,  0],\n",
       "       [ 0,  0,  3,  0,  0],\n",
       "       [-2,  0,  4,  8, -2],\n",
       "       [ 0,  0,  5,  0,  8],\n",
       "       [ 0,  0,  6,  0,  0]])"
      ]
     },
     "execution_count": 4,
     "metadata": {},
     "output_type": "execute_result"
    }
   ],
   "source": [
    "lil = sparse.lil_matrix((6, 5), dtype=np.int)\n",
    "lil[(0, -1)] = -1\n",
    "lil[3, (0, 4)] = [-2] * 2\n",
    "lil.setdiag(8, k=0)\n",
    "lil[:, 2] = np.arange(lil.shape[0]).reshape(-1, 1) + 1\n",
    "lil.toarray()"
   ]
  },
  {
   "cell_type": "code",
   "execution_count": 5,
   "metadata": {},
   "outputs": [
    {
     "data": {
      "text/plain": [
       "array([[8, 0, 2, 0, 0],\n",
       "       [0, 0, 5, 0, 0],\n",
       "       [0, 0, 0, 0, 0],\n",
       "       [0, 0, 0, 0, 0],\n",
       "       [0, 0, 7, 1, 2],\n",
       "       [0, 0, 0, 0, 0],\n",
       "       [0, 0, 0, 9, 0]])"
      ]
     },
     "execution_count": 5,
     "metadata": {},
     "output_type": "execute_result"
    }
   ],
   "source": [
    "indptr = np.array([0, 2, 3, 3, 3, 6, 6, 7])\n",
    "indices = np.array([0, 2, 2, 2, 3, 4, 3])\n",
    "data = np.array([8, 2, 5, 7, 1, 2, 9])\n",
    "\n",
    "csr = sparse.csr_matrix((data, indices, indptr))\n",
    "\n",
    "csr.toarray()"
   ]
  },
  {
   "cell_type": "code",
   "execution_count": 6,
   "metadata": {},
   "outputs": [
    {
     "name": "stdout",
     "output_type": "stream",
     "text": [
      "[0 1 1 4 6 7]\n",
      "[0 0 1 4 4 6 4]\n",
      "[8 2 5 7 1 9 2]\n",
      "[[8 0 2 0 0]\n",
      " [0 0 5 0 0]\n",
      " [0 0 0 0 0]\n",
      " [0 0 0 0 0]\n",
      " [0 0 7 1 2]\n",
      " [0 0 0 0 0]\n",
      " [0 0 0 9 0]]\n"
     ]
    }
   ],
   "source": [
    "csc = sparse.csc_matrix(csr)\n",
    "print(csc.indptr)\n",
    "print(csc.indices)\n",
    "print(csc.data)\n",
    "print(csc.toarray())"
   ]
  },
  {
   "cell_type": "code",
   "execution_count": 7,
   "metadata": {},
   "outputs": [
    {
     "name": "stdout",
     "output_type": "stream",
     "text": [
      "[[ 1  2  3  4  5]\n",
      " [ 6  7  8  9 10]\n",
      " [11 12 13 14 15]]\n",
      "[[ 1  0 13  0  0]\n",
      " [ 0  2  0 14  0]\n",
      " [ 0  0  3  0 15]\n",
      " [ 6  0  0  4  0]\n",
      " [ 0  7  0  0  5]\n",
      " [ 0  0  8  0  0]\n",
      " [ 0  0  0  9  0]]\n"
     ]
    }
   ],
   "source": [
    "data = np.arange(15).reshape(3, -1) + 1\n",
    "offsets = np.array([0, -3, 2])\n",
    "print(data)\n",
    "dia = sparse.dia_matrix((data, offsets), shape=(7, 5))\n",
    "print(dia.toarray())"
   ]
  },
  {
   "cell_type": "code",
   "execution_count": 8,
   "metadata": {},
   "outputs": [
    {
     "data": {
      "text/plain": [
       "2.4857142857142858"
      ]
     },
     "execution_count": 8,
     "metadata": {},
     "output_type": "execute_result"
    }
   ],
   "source": [
    "sparse.spmatrix.mean(dia)"
   ]
  },
  {
   "cell_type": "code",
   "execution_count": 10,
   "metadata": {},
   "outputs": [
    {
     "data": {
      "text/plain": [
       "array([[0],\n",
       "       [2],\n",
       "       [0],\n",
       "       [0],\n",
       "       [0],\n",
       "       [0]], dtype=int32)"
      ]
     },
     "execution_count": 10,
     "metadata": {},
     "output_type": "execute_result"
    }
   ],
   "source": [
    "sparse.spmatrix.getcol(coo, 1).toarray()"
   ]
  },
  {
   "cell_type": "code",
   "execution_count": 11,
   "metadata": {},
   "outputs": [
    {
     "data": {
      "text/plain": [
       "50"
      ]
     },
     "execution_count": 11,
     "metadata": {},
     "output_type": "execute_result"
    }
   ],
   "source": [
    "sparse.spmatrix.getmaxprint(coo)"
   ]
  },
  {
   "cell_type": "code",
   "execution_count": 12,
   "metadata": {},
   "outputs": [
    {
     "data": {
      "text/plain": [
       "(False, True)"
      ]
     },
     "execution_count": 12,
     "metadata": {},
     "output_type": "execute_result"
    }
   ],
   "source": [
    "sparse.isspmatrix_coo(dia), sparse.isspmatrix_coo(coo)"
   ]
  },
  {
   "cell_type": "code",
   "execution_count": null,
   "metadata": {},
   "outputs": [],
   "source": [
    "csgraph.bellman_ford()"
   ]
  }
 ],
 "metadata": {
  "interpreter": {
   "hash": "4d5a04498cbb10b7e418549959132dac50071c581631687b5ce2bc684ab2b89b"
  },
  "kernelspec": {
   "display_name": "Python 3.6.8 ('tensorflow2_gpu_p36')",
   "language": "python",
   "name": "python3"
  },
  "language_info": {
   "codemirror_mode": {
    "name": "ipython",
    "version": 3
   },
   "file_extension": ".py",
   "mimetype": "text/x-python",
   "name": "python",
   "nbconvert_exporter": "python",
   "pygments_lexer": "ipython3",
   "version": "3.6.8"
  },
  "orig_nbformat": 4
 },
 "nbformat": 4,
 "nbformat_minor": 2
}
