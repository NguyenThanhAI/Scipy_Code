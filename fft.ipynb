{
 "cells": [
  {
   "cell_type": "code",
   "execution_count": 1,
   "metadata": {},
   "outputs": [],
   "source": [
    "import numpy as np\n",
    "from scipy.fft import fft, ifft"
   ]
  },
  {
   "cell_type": "code",
   "execution_count": 2,
   "metadata": {},
   "outputs": [
    {
     "data": {
      "text/plain": [
       "array([ 4.5       -0.j        ,  2.08155948-1.65109876j,\n",
       "       -1.83155948+1.60822041j, -1.83155948-1.60822041j,\n",
       "        2.08155948+1.65109876j])"
      ]
     },
     "execution_count": 2,
     "metadata": {},
     "output_type": "execute_result"
    }
   ],
   "source": [
    "x = np.array([1.0, 2.0, 1.0, -1.0, 1.5])\n",
    "y = fft(x)\n",
    "y"
   ]
  },
  {
   "cell_type": "code",
   "execution_count": 3,
   "metadata": {},
   "outputs": [
    {
     "data": {
      "text/plain": [
       "array([ 1. +0.j,  2. +0.j,  1. +0.j, -1. +0.j,  1.5+0.j])"
      ]
     },
     "execution_count": 3,
     "metadata": {},
     "output_type": "execute_result"
    }
   ],
   "source": [
    "yinv = ifft(y)\n",
    "yinv\n"
   ]
  },
  {
   "cell_type": "code",
   "execution_count": 14,
   "metadata": {},
   "outputs": [
    {
     "name": "stdout",
     "output_type": "stream",
     "text": [
      "[  0.           1.33333333   2.66666667   4.           5.33333333\n",
      "   6.66666667   8.           9.33333333  10.66666667  12.\n",
      "  13.33333333  14.66666667  16.          17.33333333  18.66666667\n",
      "  20.          21.33333333  22.66666667  24.          25.33333333\n",
      "  26.66666667  28.          29.33333333  30.66666667  32.\n",
      "  33.33333333  34.66666667  36.          37.33333333  38.66666667\n",
      "  40.          41.33333333  42.66666667  44.          45.33333333\n",
      "  46.66666667  48.          49.33333333  50.66666667  52.\n",
      "  53.33333333  54.66666667  56.          57.33333333  58.66666667\n",
      "  60.          61.33333333  62.66666667  64.          65.33333333\n",
      "  66.66666667  68.          69.33333333  70.66666667  72.\n",
      "  73.33333333  74.66666667  76.          77.33333333  78.66666667\n",
      "  80.          81.33333333  82.66666667  84.          85.33333333\n",
      "  86.66666667  88.          89.33333333  90.66666667  92.\n",
      "  93.33333333  94.66666667  96.          97.33333333  98.66666667\n",
      " 100.         101.33333333 102.66666667 104.         105.33333333\n",
      " 106.66666667 108.         109.33333333 110.66666667 112.\n",
      " 113.33333333 114.66666667 116.         117.33333333 118.66666667\n",
      " 120.         121.33333333 122.66666667 124.         125.33333333\n",
      " 126.66666667 128.         129.33333333 130.66666667 132.\n",
      " 133.33333333 134.66666667 136.         137.33333333 138.66666667\n",
      " 140.         141.33333333 142.66666667 144.         145.33333333\n",
      " 146.66666667 148.         149.33333333 150.66666667 152.\n",
      " 153.33333333 154.66666667 156.         157.33333333 158.66666667\n",
      " 160.         161.33333333 162.66666667 164.         165.33333333\n",
      " 166.66666667 168.         169.33333333 170.66666667 172.\n",
      " 173.33333333 174.66666667 176.         177.33333333 178.66666667\n",
      " 180.         181.33333333 182.66666667 184.         185.33333333\n",
      " 186.66666667 188.         189.33333333 190.66666667 192.\n",
      " 193.33333333 194.66666667 196.         197.33333333 198.66666667\n",
      " 200.         201.33333333 202.66666667 204.         205.33333333\n",
      " 206.66666667 208.         209.33333333 210.66666667 212.\n",
      " 213.33333333 214.66666667 216.         217.33333333 218.66666667\n",
      " 220.         221.33333333 222.66666667 224.         225.33333333\n",
      " 226.66666667 228.         229.33333333 230.66666667 232.\n",
      " 233.33333333 234.66666667 236.         237.33333333 238.66666667\n",
      " 240.         241.33333333 242.66666667 244.         245.33333333\n",
      " 246.66666667 248.         249.33333333 250.66666667 252.\n",
      " 253.33333333 254.66666667 256.         257.33333333 258.66666667\n",
      " 260.         261.33333333 262.66666667 264.         265.33333333\n",
      " 266.66666667 268.         269.33333333 270.66666667 272.\n",
      " 273.33333333 274.66666667 276.         277.33333333 278.66666667\n",
      " 280.         281.33333333 282.66666667 284.         285.33333333\n",
      " 286.66666667 288.         289.33333333 290.66666667 292.\n",
      " 293.33333333 294.66666667 296.         297.33333333 298.66666667\n",
      " 300.         301.33333333 302.66666667 304.         305.33333333\n",
      " 306.66666667 308.         309.33333333 310.66666667 312.\n",
      " 313.33333333 314.66666667 316.         317.33333333 318.66666667\n",
      " 320.         321.33333333 322.66666667 324.         325.33333333\n",
      " 326.66666667 328.         329.33333333 330.66666667 332.\n",
      " 333.33333333 334.66666667 336.         337.33333333 338.66666667\n",
      " 340.         341.33333333 342.66666667 344.         345.33333333\n",
      " 346.66666667 348.         349.33333333 350.66666667 352.\n",
      " 353.33333333 354.66666667 356.         357.33333333 358.66666667\n",
      " 360.         361.33333333 362.66666667 364.         365.33333333\n",
      " 366.66666667 368.         369.33333333 370.66666667 372.\n",
      " 373.33333333 374.66666667 376.         377.33333333 378.66666667\n",
      " 380.         381.33333333 382.66666667 384.         385.33333333\n",
      " 386.66666667 388.         389.33333333 390.66666667 392.\n",
      " 393.33333333 394.66666667 396.         397.33333333 398.66666667]\n"
     ]
    },
    {
     "data": {
      "image/png": "[encoded data removed]",
      "text/plain": [
       "<Figure size 432x288 with 1 Axes>"
      ]
     },
     "metadata": {
      "needs_background": "light"
     },
     "output_type": "display_data"
    }
   ],
   "source": [
    "from scipy.fft import fft, fftfreq\n",
    "# Number of sample points\n",
    "N = 600\n",
    "# sample spacing\n",
    "T = 1.0 / 800.0\n",
    "x = np.linspace(0.0, N*T, N, endpoint=False)\n",
    "y = np.sin(50.0 * 2.0*np.pi*x) + 0.5*np.sin(80.0 * 2.0*np.pi*x)\n",
    "yf = fft(y)\n",
    "xf = fftfreq(N, T)[:N//2]\n",
    "#print(xf)\n",
    "import matplotlib.pyplot as plt\n",
    "plt.plot(xf, 2.0/N * np.abs(yf[0:N//2]))\n",
    "plt.grid()"
   ]
  },
  {
   "cell_type": "code",
   "execution_count": 16,
   "metadata": {},
   "outputs": [
    {
     "data": {
      "text/plain": [
       "array([  0. ,  12.5,  25. ,  37.5, -50. , -37.5, -25. , -12.5])"
      ]
     },
     "execution_count": 16,
     "metadata": {},
     "output_type": "execute_result"
    }
   ],
   "source": [
    "from scipy.fft import fftfreq\n",
    "freq = fftfreq(8, 0.01)\n",
    "freq"
   ]
  },
  {
   "cell_type": "code",
   "execution_count": 17,
   "metadata": {},
   "outputs": [
    {
     "data": {
      "text/plain": [
       "array([-50. , -37.5, -25. , -12.5,   0. ,  12.5,  25. ,  37.5])"
      ]
     },
     "execution_count": 17,
     "metadata": {},
     "output_type": "execute_result"
    }
   ],
   "source": [
    "from scipy.fft import fftshift\n",
    "freq = fftfreq(8, 0.01)\n",
    "freq\n",
    "fftshift(freq)"
   ]
  },
  {
   "cell_type": "code",
   "execution_count": 21,
   "metadata": {},
   "outputs": [
    {
     "data": {
      "text/plain": [
       "(array([ 0.        ,  0.16666667,  0.33333333, -0.5       , -0.33333333,\n",
       "        -0.16666667]),\n",
       " array([ 5.5 -0.j        ,  2.25-0.4330127j , -2.75-1.29903811j,\n",
       "         1.5 -0.j        , -2.75+1.29903811j,  2.25+0.4330127j ]))"
      ]
     },
     "execution_count": 21,
     "metadata": {},
     "output_type": "execute_result"
    }
   ],
   "source": [
    "from scipy.fft import fft, rfft, irfft\n",
    "x = np.array([1.0, 2.0, 1.0, -1.0, 1.5, 1.0])\n",
    "fftfreq(x.shape[0]), fft(x)"
   ]
  },
  {
   "cell_type": "code",
   "execution_count": 20,
   "metadata": {},
   "outputs": [
    {
     "data": {
      "text/plain": [
       "array([ 5.5 +0.j        ,  2.25-0.4330127j , -2.75-1.29903811j,\n",
       "        1.5 +0.j        ])"
      ]
     },
     "execution_count": 20,
     "metadata": {},
     "output_type": "execute_result"
    }
   ],
   "source": [
    "yr = rfft(x)\n",
    "yr"
   ]
  },
  {
   "cell_type": "code",
   "execution_count": 23,
   "metadata": {},
   "outputs": [
    {
     "data": {
      "text/plain": [
       "array([ 1. ,  2. ,  1. , -1. ,  1.5,  1. ])"
      ]
     },
     "execution_count": 23,
     "metadata": {},
     "output_type": "execute_result"
    }
   ],
   "source": [
    "irfft(yr)"
   ]
  },
  {
   "cell_type": "code",
   "execution_count": 24,
   "metadata": {},
   "outputs": [
    {
     "data": {
      "text/plain": [
       "array([ 4.5       -0.j        ,  2.08155948-1.65109876j,\n",
       "       -1.83155948+1.60822041j, -1.83155948-1.60822041j,\n",
       "        2.08155948+1.65109876j])"
      ]
     },
     "execution_count": 24,
     "metadata": {},
     "output_type": "execute_result"
    }
   ],
   "source": [
    "x = np.array([1.0, 2.0, 1.0, -1.0, 1.5])\n",
    "fft(x)"
   ]
  },
  {
   "cell_type": "code",
   "execution_count": 25,
   "metadata": {},
   "outputs": [
    {
     "data": {
      "text/plain": [
       "array([ 4.5       +0.j        ,  2.08155948-1.65109876j,\n",
       "       -1.83155948+1.60822041j])"
      ]
     },
     "execution_count": 25,
     "metadata": {},
     "output_type": "execute_result"
    }
   ],
   "source": [
    "yr = rfft(x)\n",
    "yr"
   ]
  },
  {
   "cell_type": "code",
   "execution_count": 26,
   "metadata": {},
   "outputs": [
    {
     "data": {
      "text/plain": [
       "(array([  0. ,  12.5,  25. ,  37.5, -50. , -37.5, -25. , -12.5]),\n",
       " array([-50. , -37.5, -25. , -12.5,   0. ,  12.5,  25. ,  37.5]))"
      ]
     },
     "execution_count": 26,
     "metadata": {},
     "output_type": "execute_result"
    }
   ],
   "source": [
    "from scipy.fft import fftfreq, fftshift\n",
    "freq = fftfreq(8, 0.01)\n",
    "freq, fftshift(freq)"
   ]
  },
  {
   "cell_type": "code",
   "execution_count": 18,
   "metadata": {},
   "outputs": [
    {
     "name": "stderr",
     "output_type": "stream",
     "text": [
      "C:\\Users\\Thanh\\.conda\\envs\\tensorflow2_gpu_p36\\lib\\site-packages\\numpy\\core\\_asarray.py:83: ComplexWarning: Casting complex values to real discards the imaginary part\n",
      "  return array(a, dtype, copy=False, order=order)\n"
     ]
    },
    {
     "data": {
      "image/png": "[encoded data removed]",
      "text/plain": [
       "<Figure size 432x288 with 2 Axes>"
      ]
     },
     "metadata": {
      "needs_background": "light"
     },
     "output_type": "display_data"
    }
   ],
   "source": [
    "from scipy.fft import fft, fftfreq, fftshift\n",
    "import matplotlib.pyplot as plt\n",
    "# number of signal points\n",
    "N = 400\n",
    "# sample spacing\n",
    "T = 1.0 / 800.0\n",
    "x = np.linspace(0.0, N*T, N, endpoint=False)\n",
    "y = np.exp(50.0 * 1.j * 2.0*np.pi*x) + 0.5*np.exp(-80.0 * 1.j * 2.0*np.pi*x)\n",
    "yf = fft(y)\n",
    "xf = fftfreq(N, T)\n",
    "xf = fftshift(xf)\n",
    "yplot = fftshift(yf)\n",
    "fig, axs = plt.subplots(2)\n",
    "axs[0].plot(x, y)\n",
    "axs[0].grid()\n",
    "axs[1].plot(xf, 1.0/N * np.abs(yplot))\n",
    "axs[1].grid()\n",
    "plt.show()"
   ]
  },
  {
   "cell_type": "code",
   "execution_count": 29,
   "metadata": {},
   "outputs": [
    {
     "name": "stdout",
     "output_type": "stream",
     "text": [
      "[ 2.01246118  0.81449363  0.45127314 -1.99037688  0.60938703] [ 1.   2.   1.  -1.   1.5]\n"
     ]
    }
   ],
   "source": [
    "from scipy.fft import dct, idct\n",
    "x = np.array([1.0, 2.0, 1.0, -1.0, 1.5])\n",
    "y = dct(x, type=2, norm='ortho')\n",
    "z = dct(y, type=3, norm='ortho')\n",
    "print(y, z)"
   ]
  },
  {
   "cell_type": "code",
   "execution_count": 30,
   "metadata": {},
   "outputs": [
    {
     "name": "stdout",
     "output_type": "stream",
     "text": [
      "[ 9.          2.575655    1.42705098 -6.29412435  1.92705098] [ 10.  20.  10. -10.  15.]\n"
     ]
    }
   ],
   "source": [
    "e = dct(x, type=2, norm=None)\n",
    "t = dct(e, type=3, norm=None)\n",
    "print(e, t)"
   ]
  },
  {
   "cell_type": "code",
   "execution_count": 31,
   "metadata": {},
   "outputs": [
    {
     "data": {
      "text/plain": [
       "array([ 1. ,  2. ,  1. , -1. ,  1.5])"
      ]
     },
     "execution_count": 31,
     "metadata": {},
     "output_type": "execute_result"
    }
   ],
   "source": [
    "idct(dct(x, type=2), type=2)"
   ]
  },
  {
   "cell_type": "code",
   "execution_count": 40,
   "metadata": {},
   "outputs": [],
   "source": [
    "from scipy.fft import dct, idct\n",
    "import matplotlib.pyplot as plt\n",
    "N = 100\n",
    "t = np.linspace(0,20,N, endpoint=False)\n",
    "x = np.exp(-t/3)*np.cos(2*t)\n",
    "y = dct(x, norm='ortho')\n",
    "window = np.zeros(N)\n",
    "window[:20] = 1\n",
    "yr = idct(y*window, norm='ortho')"
   ]
  },
  {
   "cell_type": "code",
   "execution_count": 41,
   "metadata": {},
   "outputs": [
    {
     "data": {
      "text/plain": [
       "0.0009872817275276078"
      ]
     },
     "execution_count": 41,
     "metadata": {},
     "output_type": "execute_result"
    }
   ],
   "source": [
    "sum(abs(x-yr)**2) / sum(abs(x)**2)"
   ]
  },
  {
   "cell_type": "code",
   "execution_count": 46,
   "metadata": {},
   "outputs": [],
   "source": [
    "window = np.zeros(N)\n",
    "window[:15] = 1\n",
    "yrr = idct(y*window, norm='ortho')"
   ]
  },
  {
   "cell_type": "code",
   "execution_count": 47,
   "metadata": {},
   "outputs": [
    {
     "data": {
      "text/plain": [
       "0.06196643004256714"
      ]
     },
     "execution_count": 47,
     "metadata": {},
     "output_type": "execute_result"
    }
   ],
   "source": [
    "sum(abs(x-yrr)**2) / sum(abs(x)**2)"
   ]
  },
  {
   "cell_type": "code",
   "execution_count": 48,
   "metadata": {},
   "outputs": [
    {
     "data": {
      "image/png": "[encoded data removed]",
      "text/plain": [
       "<Figure size 432x288 with 1 Axes>"
      ]
     },
     "metadata": {
      "needs_background": "light"
     },
     "output_type": "display_data"
    }
   ],
   "source": [
    "plt.plot(t, x, '-bx')\n",
    "plt.plot(t, yr, 'ro')\n",
    "plt.plot(t, yrr, 'g+')\n",
    "plt.legend(['x', '$x_{20}$', '$x_{15}$'])\n",
    "plt.grid()\n",
    "plt.show()"
   ]
  }
 ],
 "metadata": {
  "interpreter": {
   "hash": "4d5a04498cbb10b7e418549959132dac50071c581631687b5ce2bc684ab2b89b"
  },
  "kernelspec": {
   "display_name": "Python 3.6.8 ('tensorflow2_gpu_p36')",
   "language": "python",
   "name": "python3"
  },
  "language_info": {
   "codemirror_mode": {
    "name": "ipython",
    "version": 3
   },
   "file_extension": ".py",
   "mimetype": "text/x-python",
   "name": "python",
   "nbconvert_exporter": "python",
   "pygments_lexer": "ipython3",
   "version": "3.6.8"
  },
  "orig_nbformat": 4
 },
 "nbformat": 4,
 "nbformat_minor": 2
}
